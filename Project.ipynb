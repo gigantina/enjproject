{
 "cells": [
  {
   "cell_type": "code",
   "execution_count": 77,
   "id": "e514cc19",
   "metadata": {},
   "outputs": [],
   "source": [
    "from tensorflow import keras\n",
    "from tensorflow.keras.models import Sequential\n",
    "from tensorflow.keras.layers import Conv2D, MaxPooling2D\n",
    "from tensorflow.keras.layers import Activation, Dropout, Flatten, Dense, Rescaling\n",
    "import matplotlib.pyplot as plt\n"
   ]
  },
  {
   "cell_type": "code",
   "execution_count": null,
   "id": "a3355e61",
   "metadata": {},
   "outputs": [],
   "source": [
    "Мы заранее преобразовали наши изображения в единый формат, поэтому мы можем указать длину и высоту всех изображений"
   ]
  },
  {
   "cell_type": "code",
   "execution_count": 78,
   "id": "bbc0306e",
   "metadata": {},
   "outputs": [],
   "source": [
    "img_height = 160\n",
    "img_width = 220\n",
    "batch_size = 64"
   ]
  },
  {
   "cell_type": "code",
   "execution_count": null,
   "id": "967ffa75",
   "metadata": {},
   "outputs": [],
   "source": [
    "Возьмем данные для обучения из папки. Структура папки представляет из себя две папки с изображениями. В одной из них \n",
    "со ржавчиной, в другой - без. Для тестовых данных возьмем 20% от их общего числа"
   ]
  },
  {
   "cell_type": "code",
   "execution_count": 79,
   "id": "40ffba38",
   "metadata": {},
   "outputs": [
    {
     "name": "stdout",
     "output_type": "stream",
     "text": [
      "Found 400 files belonging to 2 classes.\n",
      "Using 320 files for training.\n"
     ]
    }
   ],
   "source": [
    "train_data = keras.utils.image_dataset_from_directory(\n",
    "  'data',\n",
    "  validation_split=0.2,\n",
    "  subset=\"training\",\n",
    "  seed=123,\n",
    "  image_size=(img_height, img_width),\n",
    "  batch_size=batch_size)"
   ]
  },
  {
   "cell_type": "code",
   "execution_count": 81,
   "id": "6307218e",
   "metadata": {},
   "outputs": [
    {
     "name": "stdout",
     "output_type": "stream",
     "text": [
      "Found 400 files belonging to 2 classes.\n",
      "Using 80 files for validation.\n"
     ]
    }
   ],
   "source": [
    "test_data = keras.utils.image_dataset_from_directory(\n",
    "  'data',\n",
    "  validation_split=0.2,\n",
    "  subset=\"validation\",\n",
    "  seed=123,\n",
    "  image_size=(img_height, img_width),\n",
    "  batch_size=batch_size)"
   ]
  },
  {
   "cell_type": "code",
   "execution_count": null,
   "id": "285df0bc",
   "metadata": {},
   "outputs": [],
   "source": [
    "Начинаем описывать слои нашей модели. Сначала идет чередование слоев свертки и пулинга"
   ]
  },
  {
   "cell_type": "code",
   "execution_count": 83,
   "id": "cdd98544",
   "metadata": {},
   "outputs": [],
   "source": [
    "model = Sequential([\n",
    "  Rescaling(1./255, input_shape=(img_height, img_width, 3)),\n",
    "  Conv2D(16, 3, padding='same', activation='relu'),\n",
    "  MaxPooling2D(),\n",
    "  Conv2D(32, 3, padding='same', activation='relu'),\n",
    "  MaxPooling2D(),\n",
    "  Conv2D(64, 3, padding='same', activation='relu'),\n",
    "  MaxPooling2D(),\n",
    "])\n",
    "\n",
    "\n",
    "\n"
   ]
  },
  {
   "cell_type": "code",
   "execution_count": null,
   "id": "5e94a196",
   "metadata": {},
   "outputs": [],
   "source": [
    "Затем добавляем полносвязные слои, как в перцептроне"
   ]
  },
  {
   "cell_type": "code",
   "execution_count": 84,
   "id": "7d483a6b",
   "metadata": {},
   "outputs": [],
   "source": [
    "model.add(Flatten())\n",
    "model.add(Dense(64))\n",
    "model.add(Activation('relu'))\n",
    "model.add(Dropout(0.5))\n",
    "model.add(Dense(1))\n",
    "model.add(Activation('sigmoid'))\n",
    "\n",
    "model.compile(loss='binary_crossentropy',\n",
    "              optimizer='rmsprop',\n",
    "              metrics=['accuracy'])"
   ]
  },
  {
   "cell_type": "code",
   "execution_count": 85,
   "id": "749307d4",
   "metadata": {},
   "outputs": [
    {
     "name": "stdout",
     "output_type": "stream",
     "text": [
      "Model: \"sequential_5\"\n",
      "_________________________________________________________________\n",
      " Layer (type)                Output Shape              Param #   \n",
      "=================================================================\n",
      " rescaling_2 (Rescaling)     (None, 160, 220, 3)       0         \n",
      "                                                                 \n",
      " conv2d_11 (Conv2D)          (None, 160, 220, 16)      448       \n",
      "                                                                 \n",
      " max_pooling2d_7 (MaxPooling  (None, 80, 110, 16)      0         \n",
      " 2D)                                                             \n",
      "                                                                 \n",
      " conv2d_12 (Conv2D)          (None, 80, 110, 32)       4640      \n",
      "                                                                 \n",
      " max_pooling2d_8 (MaxPooling  (None, 40, 55, 32)       0         \n",
      " 2D)                                                             \n",
      "                                                                 \n",
      " conv2d_13 (Conv2D)          (None, 40, 55, 64)        18496     \n",
      "                                                                 \n",
      " max_pooling2d_9 (MaxPooling  (None, 20, 27, 64)       0         \n",
      " 2D)                                                             \n",
      "                                                                 \n",
      " flatten_7 (Flatten)         (None, 34560)             0         \n",
      "                                                                 \n",
      " dense_14 (Dense)            (None, 64)                2211904   \n",
      "                                                                 \n",
      " activation_15 (Activation)  (None, 64)                0         \n",
      "                                                                 \n",
      " dropout_7 (Dropout)         (None, 64)                0         \n",
      "                                                                 \n",
      " dense_15 (Dense)            (None, 1)                 65        \n",
      "                                                                 \n",
      " activation_16 (Activation)  (None, 1)                 0         \n",
      "                                                                 \n",
      "=================================================================\n",
      "Total params: 2,235,553\n",
      "Trainable params: 2,235,553\n",
      "Non-trainable params: 0\n",
      "_________________________________________________________________\n"
     ]
    }
   ],
   "source": [
    "model.summary()"
   ]
  },
  {
   "cell_type": "code",
   "execution_count": null,
   "id": "4e0fd239",
   "metadata": {},
   "outputs": [],
   "source": [
    "Обучаем нашу модель"
   ]
  },
  {
   "cell_type": "code",
   "execution_count": 86,
   "id": "3c9e8950",
   "metadata": {},
   "outputs": [
    {
     "name": "stdout",
     "output_type": "stream",
     "text": [
      "Epoch 1/20\n",
      "5/5 [==============================] - 5s 832ms/step - loss: 2.4869 - accuracy: 0.5188 - val_loss: 0.6719 - val_accuracy: 0.7375\n",
      "Epoch 2/20\n",
      "5/5 [==============================] - 4s 809ms/step - loss: 0.6348 - accuracy: 0.6375 - val_loss: 0.6130 - val_accuracy: 0.6875\n",
      "Epoch 3/20\n",
      "5/5 [==============================] - 4s 851ms/step - loss: 0.6007 - accuracy: 0.6844 - val_loss: 0.5335 - val_accuracy: 0.7750\n",
      "Epoch 4/20\n",
      "5/5 [==============================] - 4s 799ms/step - loss: 0.6983 - accuracy: 0.7125 - val_loss: 0.6142 - val_accuracy: 0.6250\n",
      "Epoch 5/20\n",
      "5/5 [==============================] - 4s 787ms/step - loss: 0.5537 - accuracy: 0.7312 - val_loss: 0.5530 - val_accuracy: 0.7625\n",
      "Epoch 6/20\n",
      "5/5 [==============================] - 4s 787ms/step - loss: 0.4176 - accuracy: 0.8313 - val_loss: 0.7124 - val_accuracy: 0.6875\n",
      "Epoch 7/20\n",
      "5/5 [==============================] - 4s 781ms/step - loss: 0.4427 - accuracy: 0.8062 - val_loss: 0.4926 - val_accuracy: 0.7500\n",
      "Epoch 8/20\n",
      "5/5 [==============================] - 5s 914ms/step - loss: 0.4736 - accuracy: 0.7719 - val_loss: 0.4867 - val_accuracy: 0.7750\n",
      "Epoch 9/20\n",
      "5/5 [==============================] - 4s 861ms/step - loss: 0.3420 - accuracy: 0.8594 - val_loss: 0.6482 - val_accuracy: 0.7625\n",
      "Epoch 10/20\n",
      "5/5 [==============================] - 5s 939ms/step - loss: 0.3660 - accuracy: 0.8500 - val_loss: 0.4555 - val_accuracy: 0.7875\n",
      "Epoch 11/20\n",
      "5/5 [==============================] - 5s 900ms/step - loss: 0.4681 - accuracy: 0.8500 - val_loss: 0.4748 - val_accuracy: 0.7750\n",
      "Epoch 12/20\n",
      "5/5 [==============================] - 5s 911ms/step - loss: 0.4062 - accuracy: 0.8375 - val_loss: 0.5141 - val_accuracy: 0.7750\n",
      "Epoch 13/20\n",
      "5/5 [==============================] - 4s 875ms/step - loss: 0.2751 - accuracy: 0.9156 - val_loss: 0.5054 - val_accuracy: 0.7875\n",
      "Epoch 14/20\n",
      "5/5 [==============================] - 4s 882ms/step - loss: 0.2535 - accuracy: 0.8969 - val_loss: 0.6801 - val_accuracy: 0.6625\n",
      "Epoch 15/20\n",
      "5/5 [==============================] - 4s 863ms/step - loss: 0.3148 - accuracy: 0.8719 - val_loss: 0.5111 - val_accuracy: 0.7625\n",
      "Epoch 16/20\n",
      "5/5 [==============================] - 4s 873ms/step - loss: 0.1749 - accuracy: 0.9531 - val_loss: 0.5452 - val_accuracy: 0.7875\n",
      "Epoch 17/20\n",
      "5/5 [==============================] - 4s 859ms/step - loss: 0.1458 - accuracy: 0.9531 - val_loss: 0.7584 - val_accuracy: 0.7250\n",
      "Epoch 18/20\n",
      "5/5 [==============================] - 5s 900ms/step - loss: 0.2623 - accuracy: 0.8687 - val_loss: 0.5277 - val_accuracy: 0.7625\n",
      "Epoch 19/20\n",
      "5/5 [==============================] - 4s 860ms/step - loss: 0.1387 - accuracy: 0.9594 - val_loss: 0.5525 - val_accuracy: 0.7875\n",
      "Epoch 20/20\n",
      "5/5 [==============================] - 4s 864ms/step - loss: 0.1110 - accuracy: 0.9594 - val_loss: 0.7327 - val_accuracy: 0.7625\n"
     ]
    }
   ],
   "source": [
    "epochs=20\n",
    "history = model.fit(\n",
    "  train_data,\n",
    "  validation_data=test_data,\n",
    "  epochs=epochs\n",
    ")"
   ]
  },
  {
   "cell_type": "code",
   "execution_count": null,
   "id": "4b41be50",
   "metadata": {},
   "outputs": [],
   "source": [
    "Построим графики точности и функции потерь с течением эпох"
   ]
  },
  {
   "cell_type": "code",
   "execution_count": 88,
   "id": "4d5eee1b",
   "metadata": {},
   "outputs": [
    {
     "data": {
      "image/png": "[encoded data removed]",
      "text/plain": [
       "<Figure size 576x576 with 2 Axes>"
      ]
     },
     "metadata": {
      "needs_background": "light"
     },
     "output_type": "display_data"
    }
   ],
   "source": [
    "acc = history.history['accuracy']\n",
    "test_acc = history.history['val_accuracy']\n",
    "\n",
    "\n",
    "loss = history.history['loss']\n",
    "test_loss = history.history['val_loss']\n",
    "\n",
    "\n",
    "epochs_range = range(epochs)\n",
    "\n",
    "plt.figure(figsize=(8, 8))\n",
    "plt.subplot(1, 2, 1)\n",
    "plt.plot(epochs_range, acc, label='Тренировочные данные')\n",
    "plt.plot(epochs_range, test_acc, label='Тестовые данные')\n",
    "plt.legend(loc='lower right')\n",
    "plt.title('Точность (accuracy)')\n",
    "\n",
    "plt.subplot(1, 2, 2)\n",
    "plt.plot(epochs_range, loss, label='Тренировочные данные')\n",
    "plt.plot(epochs_range, test_loss, label='Тестовые данные')\n",
    "plt.legend(loc='upper right')\n",
    "plt.title('Потери (loss)')\n",
    "\n",
    "\n",
    "\n",
    "plt.show()"
   ]
  }
 ],
 "metadata": {
  "kernelspec": {
   "display_name": "Python 3 (ipykernel)",
   "language": "python",
   "name": "python3"
  },
  "language_info": {
   "codemirror_mode": {
    "name": "ipython",
    "version": 3
   },
   "file_extension": ".py",
   "mimetype": "text/x-python",
   "name": "python",
   "nbconvert_exporter": "python",
   "pygments_lexer": "ipython3",
   "version": "3.9.4"
  }
 },
 "nbformat": 4,
 "nbformat_minor": 5
}
